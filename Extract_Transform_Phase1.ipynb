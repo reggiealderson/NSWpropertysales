{
 "metadata": {
  "language_info": {
   "codemirror_mode": {
    "name": "ipython",
    "version": 3
   },
   "file_extension": ".py",
   "mimetype": "text/x-python",
   "name": "python",
   "nbconvert_exporter": "python",
   "pygments_lexer": "ipython3",
   "version": "3.8.5-final"
  },
  "orig_nbformat": 2,
  "kernelspec": {
   "name": "python38532bit6ce7b0d39ed5404aac8d7cf181bbd287",
   "display_name": "Python 3.8.5 32-bit"
  }
 },
 "nbformat": 4,
 "nbformat_minor": 2,
 "cells": [
  {
   "cell_type": "markdown",
   "metadata": {},
   "source": [
    "## Intro:"
   ]
  },
  {
   "cell_type": "markdown",
   "metadata": {},
   "source": [
    "In this notebook, follow the python code to extract and transform raw property sales data into a python list format. My own commentary surrounding certain pieces of code is denoted by the '#' symbol.\n",
    "\n",
    "### Raw data files repository and technical documentation:\n",
    "\n",
    "Source of raw dataset: https://valuation.property.nsw.gov.au/embed/propertySalesInformation\n",
    "\n",
    "*You can download data files in weekly batches (if the files pertain to property data from the current year), or in yearly increments (for years prior to the current year). The files come in zip format and include multiple .DAT files (thousands if you are downloading yearly zip files).*\n",
    "\n",
    "Please review the terms and conditions relating to this raw dataset via the above and below links.\n",
    "\n",
    "NSW property raw data guide: https://www.valuergeneral.nsw.gov.au/__data/assets/pdf_file/0016/216403/Property_Sales_Data_File_-_Data_Elements_V3.pdf"
   ]
  },
  {
   "cell_type": "markdown",
   "metadata": {},
   "source": [
    "## Setup:"
   ]
  },
  {
   "cell_type": "markdown",
   "metadata": {},
   "source": [
    "Download as many of the raw data files as you deem necessary. In this particular case I downloaded 12 weeks worth of raw data, ranging from 6 Jan 2020 to 23 Mar 2020. I then unzipped the files and saved all the included DAT files into a single directory on my computer (which takes roughly 30 seconds using Winzip software).  \n",
    "  "
   ]
  },
  {
   "cell_type": "code",
   "execution_count": 15,
   "metadata": {},
   "outputs": [],
   "source": [
    "# Importing necessary Python modules:\n",
    "\n",
    "import os, csv\n",
    "from datetime import datetime\n"
   ]
  },
  {
   "cell_type": "code",
   "execution_count": 16,
   "metadata": {},
   "outputs": [],
   "source": [
    "# Initial variable creation:\n",
    "\n",
    "properties_list = [] # Creates an empty list. This will temporarily store the semi-processed dataset.\n",
    "district_codes_list = [] # Creares an empty list used for checking purposes. \n",
    "record_codes_list = [] # Creares an empty list used for checking purposes. \n",
    "owd = os.getcwd() #saves original working directory reference \n",
    "os.chdir(owd) #resets to original working directory just in case you are running this script over and over"
   ]
  },
  {
   "cell_type": "markdown",
   "metadata": {},
   "source": [
    "## Main script:"
   ]
  },
  {
   "cell_type": "code",
   "execution_count": 17,
   "metadata": {
    "tags": []
   },
   "outputs": [
    {
     "output_type": "stream",
     "name": "stdout",
     "text": "Time elapsed (hh:mm:ss.ms) 0:00:01.853459\n"
    }
   ],
   "source": [
    "# This cell includes the script that automatically goes through each DAT file and extracts and transforms the relevant data points. This code cell takes only a couple of seconds to run. \n",
    "\n",
    "os.chdir('./DAT_Files') # Changes the active directory to the location of the DAT files\n",
    "\n",
    "start_time = datetime.now() \n",
    "DATfile_count = 0 #Variable created that will allow us to know exactly how many DAT files are processed\n",
    "\n",
    "for DATfile in os.listdir('.'): # searches through each file in the active directory\n",
    "    if not DATfile.endswith('.DAT'):\n",
    "        continue    # skips non-DAT files\n",
    "\n",
    "    DATfile_obj = open(DATfile)\n",
    "    reader_obj = csv.reader(DATfile_obj, delimiter=\";\") # reads the DAT file in csv format\n",
    "    ListData = list(reader_obj) # turns the data read from the csv file into a python list object\n",
    "    DATfile_count += 1 #Counts the DAT files processed\n",
    "\n",
    "    for i in ListData: # loops through each element in the newly created python list. Each element essentially equates to a single row if the DAT file were viewed in a csv format inside Excel. Each index of each element represents a particular data point. For example i[0] (aka the first index) is either going to contain a 'A', 'B', 'C', or 'D'. For this script we need to only extract the elements where the first index holds a 'B' value, as this is the row of data which holds the property transaction data we need.\n",
    "        if (i[0] == 'B' and i[17] == 'R'): # this if statement ensures we only take rows in the DAT files that hold residential property sales information. It ignores commercial (i.e. businesses), parking spaces, and empty land property sales.  \n",
    "            if i[12] == 'H': # here we are converting hectares into square metres. This is because there is inconsistency in the raw data, where some property sales entries have inputs denominating the area of the property in hectares, while others in square metres.\n",
    "                floating_prop_area = float(i[11])\n",
    "                i[11] = floating_prop_area * 10000\n",
    "                i[12] = 'M' # 'M' denotes metres, as opposed to 'H' for hectares. I later delete this data point as it is superfluous to future analysis. \n",
    "            if not i[19] == '': # assigns a 1 value to column 20 aka i[19], assuming that the property is a unit as opposed to a house\n",
    "                i[19] = '1'\n",
    "            if not i[20] == '': # assigns a 1 value to column 21 aka i[20], assuming that the property is a house as opposed to a unit\n",
    "                i[20] = '1'\n",
    "            \n",
    "            District_Code = i[1] # used for assessing the amount of the unique district codes included in our processed dataset. \n",
    "            Record_Code = i[23] # used for assessing the amount of the unique property sales transactions included in our processed dataset. \n",
    "\n",
    "            # Removing redundant data points:\n",
    "            del i[24]\n",
    "            del i[22]\n",
    "            del i[21]\n",
    "            del i[18]\n",
    "            del i[17]\n",
    "            del i[12]\n",
    "            del i[5]\n",
    "            del i[4]\n",
    "            del i[3]\n",
    "            del i[0]\n",
    "\n",
    "            properties_list.append(i) # Adding each row of processed data into a list holding all rows of data processed\n",
    "            district_codes_list.append(District_Code) # used for assessing the amount of the unique district codes included in our processed dataset. \n",
    "            record_codes_list.append(Record_Code) # used for assessing the amount of the unique property sales transactions included in our processed dataset.\n",
    "    DATfile_obj.close()\n",
    "\n",
    "os.chdir(owd) #changes back to original working directory\n",
    "\n",
    "print('Time elapsed (hh:mm:ss.ms) {}'.format(datetime.now() - start_time))"
   ]
  },
  {
   "cell_type": "markdown",
   "metadata": {},
   "source": [
    "## Summarising the processed data:"
   ]
  },
  {
   "cell_type": "code",
   "execution_count": 18,
   "metadata": {
    "tags": []
   },
   "outputs": [
    {
     "output_type": "stream",
     "name": "stdout",
     "text": "Number of rows of data extracted (AKA the number of property transactions): 32968\nNumber of DAT files processed: 1400\n"
    }
   ],
   "source": [
    "# Running this cell provides information about the extracted dataset\n",
    "\n",
    "print('Number of rows of data extracted (AKA the number of property transactions): ' + str(len(district_codes_list)))\n",
    "print('Number of DAT files processed: ' + str(DATfile_count))"
   ]
  },
  {
   "cell_type": "code",
   "execution_count": 19,
   "metadata": {
    "tags": []
   },
   "outputs": [
    {
     "output_type": "stream",
     "name": "stdout",
     "text": "Sample of one of the property sale transaction rows (The 763rd entry): \n\n['004', '117039', '', '7', 'MURRAY RD', 'CARDIFF', '2285', '392', '20191206', '20200114', '450000', 'R3', '', '1', 'AP826618']\n\n\n\nNumber of data points (variables/columns) for each property transaction entry: 15\n"
    }
   ],
   "source": [
    "# Running this cell will return 15 data points (in a python list object) for a single property transaction.\n",
    "\n",
    "print('Sample of one of the property sale transaction rows (The 763rd entry): \\n')\n",
    "\n",
    "print(properties_list[762])\n",
    "\n",
    "print('\\n' *2)\n",
    "\n",
    "print('Number of data points (variables/columns) for each property transaction entry: ' + str(len(properties_list[762])))\n"
   ]
  },
  {
   "cell_type": "markdown",
   "metadata": {},
   "source": [
    "It is worth understanding what these 15 data points represent.\n",
    "\n",
    "1. District Code  \n",
    "*A unique 3 digit numeric identifier applied to every district within the State of New South Wales*\n",
    "\n",
    "2. Property Id  \n",
    "*A unique numeric identifier applied to every property within the State of New South Wales*  \n",
    "\n",
    "3. Property Unit Number \n",
    "*The unit number of a property as recorded in the Register of Land Values*\n",
    "\n",
    "4. Property House Number    \n",
    "*The house number of a property as recorded in the Register of Land Values*\n",
    "\n",
    "5. Property Street Name \n",
    "*The street name of a property as recorded in the Register of Land Values*\n",
    "\n",
    "6. Property Locality    \n",
    "*The name of the locality a property exists within as recorded in the Register of Land Values*\n",
    "\n",
    "7. Property Post Code     \n",
    "*The unique 4 digit numeric postal code a property exists within as recorded in the Register of Land Values.*\n",
    "\n",
    "8. Area                 \n",
    "*The extent or measurement of land as recorded in the Register of Land Values*\n",
    "\n",
    "9. Contract Date    \n",
    "*The calendar date on which contracts were exchanged as recorded in the Register of Land Values and sourced from the Notice of Sale.*\n",
    "\n",
    "10. Settlement Date      \n",
    "*The calendar date on which a contract was settled as recorded in the Register of Land Values and sourced from the Notice of Sale*\n",
    "\n",
    "11. Purchase Price  \n",
    "*The purchase price of a property as recorded in the Register of Land Values*\n",
    "\n",
    "12. Zoning  \n",
    "*The zone classification applied to a property as recorded in the Register of Land Values*\n",
    "\n",
    "13. Unit    \n",
    "*A boolean created variable. A value of 1 indicates that the property is a unit, as opposed to a house.*\n",
    "\n",
    "14. House   \n",
    "*A boolean created variable. A value of 1 indicates that the property is a house, as opposed to a unit.* \n",
    "\n",
    "15. Dealing number  \n",
    "*A unique identifier applied to a dealing created within the State of New South Wales.*\n",
    "\n",
    "\n",
    "    \n",
    "Definitions and labels are primarily derived from documentation linked: https://www.valuergeneral.nsw.gov.au/__data/assets/pdf_file/0016/216403/Property_Sales_Data_File_-_Data_Elements_V3.pdf\n",
    "\n"
   ]
  },
  {
   "cell_type": "code",
   "execution_count": 20,
   "metadata": {
    "tags": []
   },
   "outputs": [
    {
     "output_type": "stream",
     "name": "stdout",
     "text": "Number of unique record codes: 32968\nNumber of total data points in dataset (including NaN): 494520\nNumber of unique district codes extracted: 127\nTotal number of unique districts in NSW, according to the raw data documentation, is 130.\nPercentage of all possible district codes in the dataset: 98%\n"
    }
   ],
   "source": [
    "# Running this cell provides further information about the extracted dataset\n",
    "\n",
    "number_of_datapoints_total = len(district_codes_list) * 15\n",
    "\n",
    "print('Number of unique record codes: ' + str(len(record_codes_list))) \n",
    "print('Number of total data points in dataset (including NaN): ' + str(number_of_datapoints_total))\n",
    "\n",
    "district_codes_sets = set(district_codes_list) # collates all unique property district codes featured in the processed dataset\n",
    "district_codes_number_of = len(district_codes_sets)\n",
    "totalprop_ofpossibledistricts = district_codes_number_of / 130\n",
    "totalprop_ofpossibledistricts_perc = \"{:.0%}\".format(totalprop_ofpossibledistricts)\n",
    "\n",
    "print('Number of unique district codes extracted: ' + str(len(district_codes_sets)))\n",
    "print('Total number of unique districts in NSW, according to the raw data documentation, is 130.')\n",
    "print('Percentage of all possible district codes in the dataset: ' + totalprop_ofpossibledistricts_perc) # According to this reference there are 130 possible district codes: https://www.valuergeneral.nsw.gov.au/__data/assets/pdf_file/0018/216405/Property_Sales_Data_File_District_Codes_and_Names.pdf . It is totally reasonable for a few to be missing in our dataset, as some districts in remote NSW areas may go many months without a residential property sale. \n"
   ]
  },
  {
   "cell_type": "code",
   "execution_count": 21,
   "metadata": {},
   "outputs": [],
   "source": [
    "# Run this cell if you wish the save the processed data into a csv file. \n",
    "\n",
    "os.makedirs('processed_data', exist_ok=True) # Creates a new directory where the collated processed data is saved. \n",
    "os.chdir('./processed_data')\n",
    "csvfile = 'processed_data.csv' # Creates an empty csv file. \n",
    "csvfile_obj = open(os.path.join('.', csvfile), 'a', newline='') \n",
    "csvWriter = csv.writer(csvfile_obj)\n",
    "for row in properties_list:\n",
    "    csvWriter.writerow(row)\n",
    "csvfile_obj.close()\n",
    "\n",
    "os.chdir(owd)"
   ]
  },
  {
   "cell_type": "code",
   "execution_count": null,
   "metadata": {},
   "outputs": [],
   "source": []
  }
 ]
}